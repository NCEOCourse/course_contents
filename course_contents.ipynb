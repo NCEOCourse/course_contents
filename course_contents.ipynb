{
 "cells": [
  {
   "cell_type": "markdown",
   "metadata": {},
   "source": [
    "<img src=http://eodg.atm.ox.ac.uk/RFM/NCEO_logo.jpg width=200>  <img src=http://upload.wikimedia.org/wikipedia/en/thumb/d/d1/University_College_London_logo.svg/1280px-University_College_London_logo.svg.png width=200>"
   ]
  },
  {
   "cell_type": "markdown",
   "metadata": {},
   "source": [
    "# Course Contents"
   ]
  },
  {
   "cell_type": "markdown",
   "metadata": {},
   "source": [
    "<p><b>1.0</b>&nbsp;&nbsp;&nbsp;&nbsp;&nbsp;&nbsp;<a href='1.0_Introduction_to_Jupyter_notebooks.ipynb'>Introduction to Jupyter notebooks</a></p>\n",
    "<p><b>2.0</b>&nbsp;&nbsp;&nbsp;&nbsp;&nbsp;&nbsp;<a href='2.0_Introduction_to_GDAL.ipynb'>Introduction to GDAL</a></p>"
   ]
  },
  {
   "cell_type": "code",
   "execution_count": null,
   "metadata": {
    "collapsed": true
   },
   "outputs": [],
   "source": []
  }
 ],
 "metadata": {
  "kernelspec": {
   "display_name": "Python 2",
   "language": "python",
   "name": "python2"
  },
  "language_info": {
   "codemirror_mode": {
    "name": "ipython",
    "version": 2
   },
   "file_extension": ".py",
   "mimetype": "text/x-python",
   "name": "python",
   "nbconvert_exporter": "python",
   "pygments_lexer": "ipython2",
   "version": "2.7.12"
  }
 },
 "nbformat": 4,
 "nbformat_minor": 0
}
